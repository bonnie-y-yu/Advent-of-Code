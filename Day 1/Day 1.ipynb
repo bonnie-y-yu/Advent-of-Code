{
  "nbformat": 4,
  "nbformat_minor": 0,
  "metadata": {
    "colab": {
      "provenance": [],
      "toc_visible": true,
      "authorship_tag": "ABX9TyNX9sRKdkpXoGxK4hWg+zYi",
      "include_colab_link": true
    },
    "kernelspec": {
      "name": "python3",
      "display_name": "Python 3"
    },
    "language_info": {
      "name": "python"
    }
  },
  "cells": [
    {
      "cell_type": "markdown",
      "metadata": {
        "id": "view-in-github",
        "colab_type": "text"
      },
      "source": [
        "<a href=\"https://colab.research.google.com/github/bonnie-y-yu/Advent-of-Code/blob/main/Advent_of_Code.ipynb\" target=\"_parent\"><img src=\"https://colab.research.google.com/assets/colab-badge.svg\" alt=\"Open In Colab\"/></a>"
      ]
    },
    {
      "cell_type": "code",
      "source": [
        "'''\n",
        "DAY 1 PART 1\n",
        "'''\n",
        "file = open('input_01.txt', 'r')\n",
        "data = file.readlines()\n",
        "file.close()\n",
        "\n",
        "values = [0] * len(data)\n",
        "for i in range(len(data)):\n",
        "  num = [n for n in data[i] if n.isdigit()]\n",
        "  values[i] = int(str(num[0]) + str(num[-1]))\n",
        "\n",
        "print(sum(values))"
      ],
      "metadata": {
        "id": "GSqJ7Ef82NsM"
      },
      "execution_count": null,
      "outputs": []
    },
    {
      "cell_type": "code",
      "source": [
        "'''\n",
        "DAY 1 PART 2\n",
        "'''\n",
        "file = open('input_01.txt', 'r')\n",
        "data = file.readlines()\n",
        "file.close()\n",
        "\n",
        "values = [0] * len(data)\n",
        "for i in range(len(data)):\n",
        "  data[i] = data[i].replace(\"one\", \"o1e\")\n",
        "  data[i] = data[i].replace(\"two\", \"t2o\")\n",
        "  data[i] = data[i].replace(\"three\", \"t3e\")\n",
        "  data[i] = data[i].replace(\"four\", \"f4r\")\n",
        "  data[i] = data[i].replace(\"five\", \"f5e\")\n",
        "  data[i] = data[i].replace(\"six\", \"s6x\")\n",
        "  data[i] = data[i].replace(\"seven\", \"s7n\")\n",
        "  data[i] = data[i].replace(\"eight\", \"e8t\")\n",
        "  data[i] = data[i].replace(\"nine\", \"n9e\")\n",
        "  num = [n for n in data[i] if n.isdigit()]\n",
        "  values[i] = int(str(num[0]) + str(num[-1]))\n",
        "\n",
        "print(sum(values))"
      ],
      "metadata": {
        "id": "egH0kVPeNnGD"
      },
      "execution_count": null,
      "outputs": []
    },
    {
      "cell_type": "code",
      "source": [
        "'''\n",
        "DAY 2 PART 1\n",
        "'''\n",
        "file = open('input_02.txt', 'r')\n",
        "games = [line.strip().split(':')[1] for line in file.readlines()]\n",
        "file.close()\n",
        "\n",
        "cubes = {\"red\": 12, \"green\": 13, \"blue\": 14}\n",
        "\n",
        "ans = 0\n",
        "for i, game in enumerate(games):\n",
        "  possible = True\n",
        "  for draw in game.split(';'):\n",
        "    for cube in draw.split(','):\n",
        "      n, colour = cube.split()\n",
        "      if int(n) > cubes[colour]:\n",
        "        possible = False\n",
        "  if possible == True:\n",
        "    ans += i+1\n",
        "\n",
        "print(ans)"
      ],
      "metadata": {
        "id": "GPrthhADcpLi"
      },
      "execution_count": null,
      "outputs": []
    },
    {
      "cell_type": "code",
      "source": [
        "'''\n",
        "DAY 2 PART 2\n",
        "'''\n",
        "file = open('input_02.txt', 'r')\n",
        "games = [line.strip().split(':')[1] for line in file.readlines()]\n",
        "file.close()\n",
        "\n",
        "power = [0]*len(games)\n",
        "for i, game in enumerate(games):\n",
        "  cubes = {\"red\": 0, \"green\": 0, \"blue\": 0}\n",
        "  for draw in game.split(';'):\n",
        "    for cube in draw.split(','):\n",
        "      n, colour = cube.split()\n",
        "      cubes[colour] = max(cubes[colour], int(n))\n",
        "  power[i] = cubes['red'] * cubes['green'] * cubes['blue']\n",
        "\n",
        "print(sum(power))"
      ],
      "metadata": {
        "id": "svOxH176ID9F"
      },
      "execution_count": null,
      "outputs": []
    },
    {
      "cell_type": "code",
      "source": [
        "'''\n",
        "DAY 3 PART 1\n",
        "'''\n",
        "file = open('input_03.txt', 'r')\n",
        "schematic = file.readlines()\n",
        "file.close()\n",
        "\n",
        "print(len(schematic))\n",
        "ans = 0\n",
        "for i, line in enumerate(schematic):\n",
        "  for j in line:\n",
        "    ind = []\n",
        "    num = ''\n",
        "    if line[j].isdigit:\n",
        "      ind.append(j)\n",
        "      num.append(line[j])"
      ],
      "metadata": {
        "id": "U9liPOpHyJYK"
      },
      "execution_count": null,
      "outputs": []
    },
    {
      "cell_type": "code",
      "source": [
        "'''\n",
        "DAY 4 PART 1\n",
        "'''\n",
        "file = open('input_04.txt', 'r')\n",
        "scratchcards = [line.split(':')[1] for line in file.readlines()]\n",
        "file.close()\n",
        "\n",
        "points = [0]*len(scratchcards)\n",
        "for i, card in enumerate(scratchcards):\n",
        "  wins, have = map(str.split, card.split('|'))\n",
        "  if any([num in have for num in wins]):\n",
        "    points[i] = 2**( sum( [num in have for num in wins] ) - 1)\n",
        "\n",
        "print( sum(points) )"
      ],
      "metadata": {
        "id": "rSy2V_sG7b1x"
      },
      "execution_count": null,
      "outputs": []
    },
    {
      "cell_type": "code",
      "source": [
        "'''\n",
        "DAY 4 PART 2\n",
        "'''\n",
        "file = open('input_04.txt', 'r')\n",
        "scratchcards = [line.split(':')[1] for line in file.readlines()]\n",
        "file.close()\n",
        "\n",
        "copies = [1]*len(scratchcards)\n",
        "for i, card in enumerate(scratchcards):\n",
        "  wins, have = map(str.split, card.split('|'))\n",
        "  matches = sum([num in have for num in wins])\n",
        "  if matches > 0:\n",
        "    for j in range(matches):\n",
        "      copies[i+1+j] += copies[i]\n",
        "\n",
        "print( sum(copies) )"
      ],
      "metadata": {
        "id": "XtqLIx565mnh"
      },
      "execution_count": null,
      "outputs": []
    },
    {
      "cell_type": "code",
      "source": [
        "'''\n",
        "DAY 5 PART 1\n",
        "'''\n",
        "file = open('input_05.txt', 'r')\n",
        "seeds, *maps = file.read().split('\\n\\n')\n",
        "file.close()\n",
        "\n",
        "locations = [int(seed) for seed in seeds.split()[1:] ]\n",
        "#print(locations)\n",
        "\n",
        "for section in maps:\n",
        "  for map in section.split(':')[1:]:\n",
        "    for line in map.strip().split('\\n'):\n",
        "      dest, source, ran = [ int(thing) for thing in line.split() ]\n",
        "      for i, location in enumerate(locations):\n",
        "        if source <= location < source + ran:\n",
        "          locations[i] = dest + (location - source)\n",
        "print(min(locations))"
      ],
      "metadata": {
        "colab": {
          "base_uri": "https://localhost:8080/"
        },
        "id": "wMeV-8fPHdIG",
        "outputId": "c62e113b-ae03-4ef0-9ae4-fd44a231b4dc"
      },
      "execution_count": null,
      "outputs": [
        {
          "output_type": "stream",
          "name": "stdout",
          "text": [
            "2284916834\n"
          ]
        }
      ]
    }
  ]
}
